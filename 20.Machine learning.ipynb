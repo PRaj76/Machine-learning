{
 "cells": [
  {
   "cell_type": "code",
   "execution_count": null,
   "id": "6f0e4a08",
   "metadata": {},
   "outputs": [],
   "source": [
    "1. What is the underlying concept of Support Vector Machines?\n",
    "Ans:- SVM or Support Vector Machine is a linear model for classification and regression problems. It can solve linear and\n",
    "    non-linear problems and work well for many practical problems. The idea of SVM is simple: The algorithm creates a line\n",
    "        or a hyperplane which separates the data into classes.\n",
    "        \n",
    "2. What is the concept of a support vector?\n",
    "Ans:- More formally, a support vector machine constructs a hyperplane or set of hyperplanes in a high or\n",
    "    infinite-dimensional space, which can be used for classification, regression, or other tasks like outliers detection.\n",
    "    \n",
    "3. When using SVMs, why is it necessary to scale the inputs?\n",
    "Ans:- Because Support Vector Machine (SVM) optimization occurs by minimizing the decision vector w, the optimal hyperplane\n",
    "    is influenced by the scale of the input features and it's therefore recommended that data be standardized (mean 0, \n",
    "    var 1) prior to SVM model training.\n",
    "    \n",
    "5. Should you train a model on a training set with millions of instances and hundreds of features\n",
    "using the primal or dual form of the SVM problem?\n",
    "Ans:- This question applies only to linear SVMs since kernelized can only use the dual form. The computational complexity \n",
    "of the primal form of the SVM problem is proportional to the number of training instances m, while the computational complexity of the dual form is proportional to a number between m2 and m3. So if there are millions of instances, you should definitely use the primal form, because the dual form will be much too slow.\n",
    "\n",
    "6. Let's say you've used an RBF kernel to train an SVM classifier, but it appears to underfit the\n",
    "training collection. Is it better to raise or lower (gamma)? What about the letter C?\n",
    "Ans:- If we trained an SVM classifier using a Radial Basis Function (RBF) kernel, then it underfits the training set,\n",
    "    so there might be too much regularization. To decrease it, you need to increase the gamma or C hyper-parameter.\n",
    "\n"
   ]
  }
 ],
 "metadata": {
  "kernelspec": {
   "display_name": "Python 3 (ipykernel)",
   "language": "python",
   "name": "python3"
  },
  "language_info": {
   "codemirror_mode": {
    "name": "ipython",
    "version": 3
   },
   "file_extension": ".py",
   "mimetype": "text/x-python",
   "name": "python",
   "nbconvert_exporter": "python",
   "pygments_lexer": "ipython3",
   "version": "3.9.7"
  }
 },
 "nbformat": 4,
 "nbformat_minor": 5
}
